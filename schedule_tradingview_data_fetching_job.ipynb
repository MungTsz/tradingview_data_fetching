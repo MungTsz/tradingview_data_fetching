{
 "cells": [
  {
   "cell_type": "code",
   "execution_count": null,
   "metadata": {},
   "outputs": [],
   "source": [
    "config_file_name_str = input(\"What is the name of the config file?\")\n",
    "if config_file_name_str == \"\":\n",
    "    config_file_name_str = \"config.yaml\""
   ]
  },
  {
   "cell_type": "code",
   "execution_count": null,
   "metadata": {},
   "outputs": [],
   "source": [
    "import pytz\n",
    "from tradingview_data_fetching import tradingview_data_fetching_job\n",
    "from apscheduler.schedulers.blocking import BlockingScheduler\n",
    "\n",
    "mt5_timezone = pytz.timezone(\"Israel\")\n",
    "scheduler = BlockingScheduler()\n",
    "scheduler.add_job(\n",
    "    tradingview_data_fetching_job,\n",
    "    \"cron\",\n",
    "    day_of_week=\"mon-fri\",\n",
    "    hour=\"0,4,8,12,16,20\",\n",
    "    timezone=mt5_timezone,\n",
    "    args=[config_file_name_str],\n",
    ")\n",
    "scheduler.start()"
   ]
  }
 ],
 "metadata": {
  "kernelspec": {
   "display_name": "base",
   "language": "python",
   "name": "python3"
  },
  "language_info": {
   "codemirror_mode": {
    "name": "ipython",
    "version": 3
   },
   "file_extension": ".py",
   "mimetype": "text/x-python",
   "name": "python",
   "nbconvert_exporter": "python",
   "pygments_lexer": "ipython3"
  }
 },
 "nbformat": 4,
 "nbformat_minor": 2
}
